{
 "cells": [
  {
   "cell_type": "code",
   "execution_count": 1,
   "metadata": {},
   "outputs": [
    {
     "name": "stdout",
     "output_type": "stream",
     "text": [
      "Total Votes: 369711\n"
     ]
    }
   ],
   "source": [
    "# Create a path\n",
    "import os\n",
    "# Read CSV file\n",
    "import csv\n",
    "\n",
    "csvpath = os.path.join('election_data.csv')\n",
    "\n",
    "votes = 0\n",
    "\n",
    "with open(csvpath, 'r') as csvfile:\n",
    "    csvreader = csv.reader(csvfile, delimiter = ',')\n",
    "\n",
    "    next(csvreader)\n",
    "    \n",
    "    for eachrow in csvreader:\n",
    "        votes += 1\n",
    "\n",
    "print(f\"Total Votes: {votes}\")"
   ]
  },
  {
   "cell_type": "code",
   "execution_count": 2,
   "metadata": {},
   "outputs": [
    {
     "name": "stdout",
     "output_type": "stream",
     "text": [
      "Charles Casper Stockham: 23.049% (85213)\n",
      "Diana DeGette: 73.812% (272892)\n",
      "Raymon Anthony Doane: 3.139% (11606)\n",
      "Winner: Diana DeGette\n"
     ]
    }
   ],
   "source": [
    "# Store candidates vote counts\n",
    "candidate_votes = {}\n",
    "\n",
    "# Read the CSV file\n",
    "csvpath = \"election_data.csv\"\n",
    "total_votes = 0  # Initially total vote count should be 0 \n",
    "with open(csvpath, 'r') as file:\n",
    "    next(file)  \n",
    "    for line in file:\n",
    "        voter_id, county, candidates = line.strip().split(',')\n",
    "        total_votes += 1  # Increment of 1's\n",
    "        if candidates in candidate_votes:\n",
    "            candidate_votes[candidates] += 1\n",
    "        else:\n",
    "            candidate_votes[candidates] = 1\n",
    "\n",
    "# Print the percentage of votes each candidate won\n",
    "for candidates, cand_votes in candidate_votes.items():\n",
    "    percentage = (cand_votes / total_votes) * 100\n",
    "    print(f\"{candidates}: {percentage:.3f}% ({cand_votes})\")\n",
    "\n",
    "\n",
    "# Determine who the winner is \n",
    "winner = \"\"\n",
    "maximum_votes = 0\n",
    "for winning_candidate, cand_votes in candidate_votes.items():\n",
    "    if cand_votes > maximum_votes:\n",
    "        maximum_votes = cand_votes\n",
    "        winner = winning_candidate\n",
    "\n",
    "# Print the results to confirm it's correct\n",
    "print(f'Winner: {winner}')"
   ]
  },
  {
   "cell_type": "code",
   "execution_count": 3,
   "metadata": {},
   "outputs": [
    {
     "data": {
      "text/plain": [
       "{'Charles Casper Stockham': 85213,\n",
       " 'Diana DeGette': 272892,\n",
       " 'Raymon Anthony Doane': 11606}"
      ]
     },
     "execution_count": 3,
     "metadata": {},
     "output_type": "execute_result"
    }
   ],
   "source": [
    "candidate_votes"
   ]
  },
  {
   "cell_type": "code",
   "execution_count": 10,
   "metadata": {},
   "outputs": [
    {
     "name": "stdout",
     "output_type": "stream",
     "text": [
      "Election Results\n",
      "----------------------------\n",
      "Total Votes: 11606\n",
      "----------------------------\n",
      "{'Charles Casper Stockham': 85213, 'Diana DeGette': 272892, 'Raymon Anthony Doane': 11606}: 3.139% (11606)\n",
      "----------------------------\n",
      "Winner: Diana DeGette\n",
      "----------------------------\n",
      "\n",
      "Results have been exported to ..\\PyPoll\\analysis\\results.txt\n"
     ]
    }
   ],
   "source": [
    "# Create path\n",
    "import os\n",
    "\n",
    "# Print the analysis to the terminal\n",
    "analysis_results = (\n",
    "    f\"Election Results\\n\"\n",
    "    f\"----------------------------\\n\"\n",
    "    f\"Total Votes: {votes}\\n\"\n",
    "    f\"----------------------------\\n\"\n",
    "    f\"{candidate_votes}: {percentage:.3f}% ({votes})\\n\"\n",
    "    f\"----------------------------\\n\"\n",
    "    f\"Winner: {winner}\\n\"\n",
    "    f\"----------------------------\\n\"\n",
    ")\n",
    "\n",
    "print(analysis_results)\n",
    "\n",
    "# Define the output\n",
    "output_file = os.path.join(\"..\", \"PyPoll\", \"analysis\", \"results.txt\")\n",
    "\n",
    "with open(output_file, 'w') as txt_file:\n",
    "    txt_file.write(analysis_results)\n",
    "\n",
    "print(f\"Results have been exported to {output_file}\")\n"
   ]
  }
 ],
 "metadata": {
  "kernelspec": {
   "display_name": "PythonData",
   "language": "python",
   "name": "python3"
  },
  "language_info": {
   "codemirror_mode": {
    "name": "ipython",
    "version": 3
   },
   "file_extension": ".py",
   "mimetype": "text/x-python",
   "name": "python",
   "nbconvert_exporter": "python",
   "pygments_lexer": "ipython3",
   "version": "3.7.7"
  },
  "orig_nbformat": 4
 },
 "nbformat": 4,
 "nbformat_minor": 2
}
