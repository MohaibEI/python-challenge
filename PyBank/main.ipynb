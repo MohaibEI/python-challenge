{
 "cells": [
  {
   "cell_type": "code",
   "execution_count": 1,
   "metadata": {},
   "outputs": [],
   "source": [
    "# Create a path\n",
    "import os\n",
    "# Read CSV file\n",
    "import csv"
   ]
  },
  {
   "cell_type": "code",
   "execution_count": 2,
   "metadata": {},
   "outputs": [],
   "source": [
    "csvpath = os.path.join('..', 'Starter_Code', 'PyBank\\Resources','budget_data.csv')"
   ]
  },
  {
   "cell_type": "code",
   "execution_count": 3,
   "metadata": {},
   "outputs": [
    {
     "name": "stdout",
     "output_type": "stream",
     "text": [
      "['Date', 'Profit/Losses']\n",
      "['Jan-10', '1088983']\n",
      "['Feb-10', '-354534']\n",
      "['Mar-10', '276622']\n",
      "['Apr-10', '-728133']\n",
      "['May-10', '852993']\n",
      "['Jun-10', '563721']\n",
      "['Jul-10', '-535208']\n",
      "['Aug-10', '632349']\n",
      "['Sep-10', '-173744']\n",
      "['Oct-10', '950741']\n",
      "['Nov-10', '-785750']\n",
      "['Dec-10', '-1194133']\n",
      "['Jan-11', '-589576']\n",
      "['Feb-11', '-883921']\n",
      "['Mar-11', '443564']\n",
      "['Apr-11', '837887']\n",
      "['May-11', '1081472']\n",
      "['Jun-11', '464033']\n",
      "['Jul-11', '-1066544']\n",
      "['Aug-11', '323846']\n",
      "['Sep-11', '-806551']\n",
      "['Oct-11', '487053']\n",
      "['Nov-11', '1128811']\n",
      "['Dec-11', '791398']\n",
      "['Jan-12', '739367']\n",
      "['Feb-12', '-197825']\n",
      "['Mar-12', '666016']\n",
      "['Apr-12', '589771']\n",
      "['May-12', '489290']\n",
      "['Jun-12', '-471439']\n",
      "['Jul-12', '120417']\n",
      "['Aug-12', '175347']\n",
      "['Sep-12', '855449']\n",
      "['Oct-12', '605195']\n",
      "['Nov-12', '-235220']\n",
      "['Dec-12', '347138']\n",
      "['Jan-13', '298510']\n",
      "['Feb-13', '163254']\n",
      "['Mar-13', '1141840']\n",
      "['Apr-13', '542630']\n",
      "['May-13', '99841']\n",
      "['Jun-13', '752765']\n",
      "['Jul-13', '-252949']\n",
      "['Aug-13', '914424']\n",
      "['Sep-13', '679524']\n",
      "['Oct-13', '514377']\n",
      "['Nov-13', '462102']\n",
      "['Dec-13', '159782']\n",
      "['Jan-14', '878810']\n",
      "['Feb-14', '-946748']\n",
      "['Mar-14', '340335']\n",
      "['Apr-14', '292032']\n",
      "['May-14', '502266']\n",
      "['Jun-14', '265852']\n",
      "['Jul-14', '851017']\n",
      "['Aug-14', '-549615']\n",
      "['Sep-14', '290162']\n",
      "['Oct-14', '755391']\n",
      "['Nov-14', '1073202']\n",
      "['Dec-14', '313000']\n",
      "['Jan-15', '241132']\n",
      "['Feb-15', '1036589']\n",
      "['Mar-15', '853904']\n",
      "['Apr-15', '-388932']\n",
      "['May-15', '982952']\n",
      "['Jun-15', '537759']\n",
      "['Jul-15', '547784']\n",
      "['Aug-15', '-496214']\n",
      "['Sep-15', '854181']\n",
      "['Oct-15', '934719']\n",
      "['Nov-15', '-288531']\n",
      "['Dec-15', '-184383']\n",
      "['Jan-16', '659541']\n",
      "['Feb-16', '-1149123']\n",
      "['Mar-16', '355882']\n",
      "['Apr-16', '662284']\n",
      "['May-16', '518681']\n",
      "['Jun-16', '-748256']\n",
      "['Jul-16', '-910775']\n",
      "['Aug-16', '951227']\n",
      "['Sep-16', '898241']\n",
      "['Oct-16', '-729004']\n",
      "['Nov-16', '-112209']\n",
      "['Dec-16', '516313']\n",
      "['Jan-17', '607208']\n",
      "['Feb-17', '382539']\n"
     ]
    }
   ],
   "source": [
    "# Read the csv file completely to insure code is working \n",
    "with open(csvpath, 'r') as csvfile:\n",
    "    csvread = csv.reader(csvfile, delimiter = ',')\n",
    "\n",
    "    # Read the header\n",
    "    csv_header = next(csvread)\n",
    "    print(csv_header)\n",
    "\n",
    "    for row in csvread:\n",
    "        print(row)"
   ]
  },
  {
   "cell_type": "code",
   "execution_count": 4,
   "metadata": {},
   "outputs": [],
   "source": [
    "# Prior to for loop which is being incremented by 1, insure that the total of # of months is equal to 0 so we get the output we are looking for \n",
    "months = 0"
   ]
  },
  {
   "cell_type": "code",
   "execution_count": 5,
   "metadata": {},
   "outputs": [
    {
     "name": "stdout",
     "output_type": "stream",
     "text": [
      "Total Months: 86\n"
     ]
    }
   ],
   "source": [
    "with open(csvpath, 'r') as csvfile:\n",
    "    csvread = csv.reader(csvfile, delimiter = ',')\n",
    "\n",
    "    # Skip the header to not mess up the following for loop\n",
    "    next(csvread)\n",
    "    \n",
    "     # Loop through the rows and add 1 to get the total amount of months\n",
    "    for each_row in csvread:\n",
    "        months += 1 # Method to add whatever is to the right of the \"+=\" to the left side\n",
    "\n",
    "# Print total # of months\n",
    "print(f\"Total Months: {months}\")\n",
    "\n"
   ]
  },
  {
   "cell_type": "code",
   "execution_count": 6,
   "metadata": {},
   "outputs": [
    {
     "name": "stdout",
     "output_type": "stream",
     "text": [
      "Total: $ 22564198\n"
     ]
    }
   ],
   "source": [
    "total_profit_loss = 0\n",
    "\n",
    "with open(csvpath, 'r') as csvfile:\n",
    "    csvread = csv.reader(csvfile, delimiter = ',')\n",
    "\n",
    "    # Skip the header to not mess up the following for loop\n",
    "    next(csvread)    \n",
    "    \n",
    "    # Lopp through the rows and add the 'Profit/Losses' to get the net total\n",
    "    for row in csvread:\n",
    "        profit_and_loss = int(row[1]) # converts the value we are getting into int.\n",
    "        total_profit_loss += profit_and_loss\n",
    "\n",
    "# Print the net total of \"Profit/Loss\"\n",
    "print(\"Total: $\", str(total_profit_loss))"
   ]
  },
  {
   "cell_type": "code",
   "execution_count": 7,
   "metadata": {},
   "outputs": [
    {
     "name": "stdout",
     "output_type": "stream",
     "text": [
      "Average Change: $-8311.11\n"
     ]
    }
   ],
   "source": [
    "changes = []  # A list to store the changes in P/L\n",
    "\n",
    "with open(csvpath, 'r') as csvfile:\n",
    "    csv_reader = csv.reader(csvfile, delimiter=',')\n",
    "\n",
    "    # Skip the header\n",
    "    next(csv_reader)\n",
    "\n",
    "    previous_profit_and_loss = None  # Store previous profit/loss\n",
    "\n",
    "    # Loop through the rows to find the changes\n",
    "    for row in csv_reader:\n",
    "        profit_and_loss = int(row[1])  # Convert the value to int.\n",
    "        if previous_profit_and_loss is not None:\n",
    "            change = profit_and_loss - previous_profit_and_loss\n",
    "            changes.append(change)\n",
    "        previous_profit_and_loss = profit_and_loss\n",
    "\n",
    "# Calculate the average change\n",
    "average_change = sum(changes) / len(changes)\n",
    "\n",
    "# Print the average change\n",
    "print(\"Average Change: ${:.2f}\".format(average_change))\n"
   ]
  },
  {
   "cell_type": "code",
   "execution_count": 8,
   "metadata": {},
   "outputs": [
    {
     "name": "stdout",
     "output_type": "stream",
     "text": [
      "Greatest Increase in Profits: Aug-16 ($1862002)\n"
     ]
    }
   ],
   "source": [
    "changes = [] # A list to store the changes in P/L\n",
    "dates = [] # A list to store the dates\n",
    "\n",
    "with open(csvpath, 'r') as csvfile:\n",
    "    csv_reader = csv.reader(csvfile, delimiter=',')\n",
    "\n",
    "    # Skip the header\n",
    "    next(csv_reader)\n",
    "\n",
    "    previous_profit_and_loss = None  # Store previous profit/loss\n",
    "\n",
    "    # Loop through the rows to find the changes\n",
    "    for row in csv_reader:\n",
    "        date = row[0]\n",
    "        profit_and_loss = int(row[1]) # Converting the value into a int\n",
    "        if previous_profit_and_loss is not None:\n",
    "            change = profit_and_loss - previous_profit_and_loss\n",
    "            changes.append(change)\n",
    "            dates.append(date)\n",
    "        previous_profit_and_loss = profit_and_loss\n",
    "\n",
    "# Find the index of max change\n",
    "max_increase_index = changes.index(max(changes))\n",
    "\n",
    "# Get the greatest amount of increase & the date\n",
    "date_increase = dates[max_increase_index]\n",
    "amount_increase = max(changes)\n",
    "\n",
    "# Print the inrease\n",
    "print(\"Greatest Increase in Profits:\", date_increase, \"($\" + str(amount_increase) + \")\")\n"
   ]
  },
  {
   "cell_type": "code",
   "execution_count": 9,
   "metadata": {},
   "outputs": [
    {
     "name": "stdout",
     "output_type": "stream",
     "text": [
      "Greatest Decrease in Profits: Feb-14 ($-1825558)\n"
     ]
    }
   ],
   "source": [
    "changes = [] # A list to store the changes in P/L\n",
    "dates = [] # A list to store the dates\n",
    "\n",
    "with open(csvpath, 'r') as csvfile:\n",
    "    csv_reader = csv.reader(csvfile, delimiter=',')\n",
    "\n",
    "    # Skip the header\n",
    "    next(csv_reader)\n",
    "\n",
    "    previous_profit_and_loss = None  # Store previous profit/loss\n",
    "\n",
    "    # Loop through the rows to find the changes\n",
    "    for row in csv_reader:\n",
    "        date = row[0]\n",
    "        profit_and_loss = int(row[1]) # Converting the value into a int\n",
    "        if previous_profit_and_loss is not None:\n",
    "            change = profit_and_loss - previous_profit_and_loss\n",
    "            changes.append(change)\n",
    "            dates.append(date)\n",
    "        previous_profit_and_loss = profit_and_loss\n",
    "\n",
    "# Find the index of min change (greatest decrease)\n",
    "max_decrease_index = changes.index(min(changes))\n",
    "\n",
    "# Get the greatest amount of increase & the date\n",
    "date_decrease = dates[max_decrease_index]\n",
    "amount_decrease = min(changes)\n",
    "\n",
    "# Print the inrease\n",
    "print(\"Greatest Decrease in Profits:\", date_decrease, \"($\" + str(amount_decrease) + \")\")\n"
   ]
  },
  {
   "cell_type": "code",
   "execution_count": 11,
   "metadata": {},
   "outputs": [
    {
     "name": "stdout",
     "output_type": "stream",
     "text": [
      "Financial Analysis\n",
      "----------------------------\n",
      "Total Months: 86\n",
      "Total: $22564198\n",
      "Average Change: $-8311.11\n",
      "Greatest Increase in Profits: Aug-16 ($1862002)\n",
      "Greatest Decrease in Profits: Feb-14 ($-1825558)\n",
      "\n",
      "Results have been exported to ..\\PyBank\\analysis\\results.txt\n"
     ]
    }
   ],
   "source": [
    "# Write the analysis in the text file\n",
    "\n",
    "import os\n",
    "\n",
    "# Print the analysis to the terminal\n",
    "analysis_result = (\n",
    "    f\"Financial Analysis\\n\"\n",
    "    f\"----------------------------\\n\"\n",
    "    f\"Total Months: {months}\\n\"\n",
    "    f\"Total: ${total_profit_loss}\\n\"\n",
    "    f\"Average Change: ${average_change:.2f}\\n\"\n",
    "    f\"Greatest Increase in Profits: {date_increase} (${amount_increase})\\n\"\n",
    "    f\"Greatest Decrease in Profits: {date_decrease} (${amount_decrease})\\n\")\n",
    "\n",
    "print(analysis_result)\n",
    " \n",
    "\n",
    "# Define the output\n",
    "output_file = os.path.join(\"..\", \"PyBank\", \"analysis\", \"results.txt\")\n",
    "\n",
    "with open(output_file, 'w') as txt_file:\n",
    "    txt_file.write(analysis_result)\n",
    "\n",
    "print(f\"Results have been exported to {output_file}\")"
   ]
  }
 ],
 "metadata": {
  "kernelspec": {
   "display_name": "PythonData",
   "language": "python",
   "name": "python3"
  },
  "language_info": {
   "codemirror_mode": {
    "name": "ipython",
    "version": 3
   },
   "file_extension": ".py",
   "mimetype": "text/x-python",
   "name": "python",
   "nbconvert_exporter": "python",
   "pygments_lexer": "ipython3",
   "version": "3.7.7"
  },
  "orig_nbformat": 4
 },
 "nbformat": 4,
 "nbformat_minor": 2
}
